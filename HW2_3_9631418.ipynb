{
  "nbformat": 4,
  "nbformat_minor": 0,
  "metadata": {
    "colab": {
      "name": "HW2_3_9631418.ipynb",
      "provenance": [],
      "collapsed_sections": []
    },
    "kernelspec": {
      "name": "python3",
      "display_name": "Python 3"
    },
    "language_info": {
      "name": "python"
    }
  },
  "cells": [
    {
      "cell_type": "code",
      "metadata": {
        "id": "wQnnNYgoL3ma"
      },
      "source": [
        "from sklearn import datasets\n",
        "import numpy as np\n",
        "import pandas as pd\n",
        "import matplotlib.pyplot as plt\n",
        "from matplotlib.pyplot import figure\n",
        "from sklearn.metrics import confusion_matrix\n",
        "from sklearn.linear_model import LogisticRegression\n"
      ],
      "execution_count": 50,
      "outputs": []
    },
    {
      "cell_type": "code",
      "metadata": {
        "id": "JG9tgNVM8QEH"
      },
      "source": [
        "import warnings\n",
        "warnings.filterwarnings('ignore')"
      ],
      "execution_count": 83,
      "outputs": []
    },
    {
      "cell_type": "code",
      "metadata": {
        "id": "aeGHdij0MC_x"
      },
      "source": [
        "#loading data into numpy array\n",
        "mnist = datasets.load_digits()\n",
        "label=np.array(mnist.target)\n",
        "#label = np.reshape(label,(label.size,1))\n",
        "mnist = np.array(mnist.data)\n",
        "#adding the labels\n",
        "#mnist=np.append(mnist,label,axis=1)\n",
        "#shuffling the data for better distibution\n",
        "#np.random.shuffle(mnist)"
      ],
      "execution_count": 53,
      "outputs": []
    },
    {
      "cell_type": "code",
      "metadata": {
        "id": "gfux7Z09S5To"
      },
      "source": [
        "numExamples = len(mnist) # 1797 examples\n",
        "numFeatures = len(mnist[0]) # 64 features\n",
        "numLabels = 10 # digits from 0 to 9\n"
      ],
      "execution_count": 90,
      "outputs": []
    },
    {
      "cell_type": "markdown",
      "metadata": {
        "id": "f3-bELOjRNIx"
      },
      "source": [
        "creating the training data sets for one vs all"
      ]
    },
    {
      "cell_type": "code",
      "metadata": {
        "id": "pWw7LxL7R9I1"
      },
      "source": [
        "#one_all_label[i] contains the labels for classifying number 'i' (if label[j]=k then one_all_label[k][j]=1 else one_all_label[k][j]=0)\n",
        "# '0': data0, ... datan\n",
        "# '1': data0, ... datan\n",
        "# ...\n",
        "# '9': data0, ... datan\n",
        "one_all_labels=np.zeros((numLabels,numExamples))\n",
        "for i in range(numLabels):\n",
        "  for j in range(len(label)):\n",
        "    if label[j]==i:\n",
        "      one_all_labels[i,j]=1\n"
      ],
      "execution_count": 55,
      "outputs": []
    },
    {
      "cell_type": "code",
      "metadata": {
        "id": "9a4LpKXDv-Ql"
      },
      "source": [
        "#inorder to match the data format labels have to be transposed\n",
        "# '0'  '1'  ..... '9'\n",
        "#  d    d   .....  d\n",
        "#  a    a          a\n",
        "#  t    t          t\n",
        "#  a    a          a\n",
        "#  0    1        n\n",
        "one_all_labels=one_all_labels.T"
      ],
      "execution_count": 56,
      "outputs": []
    },
    {
      "cell_type": "code",
      "metadata": {
        "colab": {
          "base_uri": "https://localhost:8080/"
        },
        "id": "CusvoXXZVMzW",
        "outputId": "ecef0035-fbdc-462f-93b2-4c45f8962189"
      },
      "source": [
        "#check\n",
        "print(np.sum(label==7))\n",
        "print(np.sum(one_all_labels[:,7]==1))\n",
        "print(one_all_labels.shape)"
      ],
      "execution_count": 58,
      "outputs": [
        {
          "output_type": "stream",
          "text": [
            "179\n",
            "179\n",
            "(1797, 10)\n"
          ],
          "name": "stdout"
        }
      ]
    },
    {
      "cell_type": "markdown",
      "metadata": {
        "id": "KokNFWgVMI9k"
      },
      "source": [
        "splitting the data"
      ]
    },
    {
      "cell_type": "code",
      "metadata": {
        "id": "hKTXUCwE5W0R"
      },
      "source": [
        "\n",
        "train=mnist[0:int(0.7*len(mnist)), :]\n",
        "train_label=one_all_labels[0:int(0.7*len(mnist))] # train labels in on vs all format\n",
        "test=mnist[int(0.7*len(mnist)): , :]\n",
        "test_label=one_all_labels[int(0.7*len(mnist)):] # test labels in on vs all format\n",
        "\n",
        "\n",
        "org_label_train=label[0:int(0.7*len(mnist))] #train labels in original format\n",
        "org_label_test=label[int(0.7*len(mnist)):] #test labels in original format"
      ],
      "execution_count": 74,
      "outputs": []
    },
    {
      "cell_type": "code",
      "metadata": {
        "colab": {
          "base_uri": "https://localhost:8080/"
        },
        "id": "8vQagDa7fend",
        "outputId": "9cfbeb6d-c58e-43e6-a7ec-8d9dd2e58cb2"
      },
      "source": [
        "print(len(train_label))\n",
        "print(train.shape)\n",
        "print(test.shape)\n",
        "print(test_label.shape)"
      ],
      "execution_count": 63,
      "outputs": [
        {
          "output_type": "stream",
          "text": [
            "1257\n",
            "(1257, 64)\n",
            "(540, 64)\n",
            "(540, 10)\n"
          ],
          "name": "stdout"
        }
      ]
    },
    {
      "cell_type": "markdown",
      "metadata": {
        "id": "eKOmqy4oCDZ1"
      },
      "source": [
        "function gets test data, train data and it's labels as input.\n",
        "trains a logistic regression classifier for each column of train labels (is the numer 0 or not,..., is the number 9 or not)\n"
      ]
    },
    {
      "cell_type": "code",
      "metadata": {
        "id": "sINYPsh7XtIR"
      },
      "source": [
        "def get_label(train,one_vs_all_train_label,test):\n",
        "  m_train=len(train)\n",
        "  m_test=len(test)\n",
        "  correct=0\n",
        "  result=np.zeros((numLabels,m_test))\n",
        "  predicted_label=np.zeros(m_test)\n",
        "  lr=LogisticRegression()\n",
        "  for i in range(numLabels):\n",
        "    lr.fit(train,one_vs_all_train_label[:,i].reshape(m_train,1))\n",
        "    #predict_prob[:,1] is the probablity of each data being equal to number 'i'\n",
        "    predict_prob=lr.predict_proba(test)\n",
        "    result[i]=predict_prob[:,1] #the probablity of being 1 (1 means equal to 'i') ; resuly of the ith classifier\n",
        "  for i in range(m_test):\n",
        "    #predicted label is the maximum of the result (probablity) of 10 classifiers\n",
        "    predicted_label[i] = np.where(result[:,i] == np.amax(result[:,i]))[0] #max probablity for each data\n",
        "  return predicted_label\n",
        "\n"
      ],
      "execution_count": 81,
      "outputs": []
    },
    {
      "cell_type": "markdown",
      "metadata": {
        "id": "ZsMZgIhc59KA"
      },
      "source": [
        "getting error and confusion matrix"
      ]
    },
    {
      "cell_type": "code",
      "metadata": {
        "id": "kIFtEMg058Z1"
      },
      "source": [
        "def display_res(train,one_vs_all_train_label,test,org_test_label):\n",
        "  correct=0\n",
        "  m_test=len(test)\n",
        "  #comparing actual labels with predicted labels\n",
        "  predicted_test_label=get_label(train,one_vs_all_train_label,test)\n",
        "  for i in range(m_test):\n",
        "    if org_test_label[i]==predicted_test_label[i]:\n",
        "      correct=correct+1\n",
        "  print(\"error: \"+str((m_test-correct)/m_test) )\n",
        "  print(confusion_matrix(org_test_label, predicted_test_label, labels=range(numLabels)))"
      ],
      "execution_count": 85,
      "outputs": []
    },
    {
      "cell_type": "markdown",
      "metadata": {
        "id": "HJUTWIzp80eb"
      },
      "source": [
        "training error and confusion matrix"
      ]
    },
    {
      "cell_type": "code",
      "metadata": {
        "colab": {
          "base_uri": "https://localhost:8080/"
        },
        "id": "z0Zxr2s48TKm",
        "outputId": "60f43d33-f9f6-4698-82f4-43b53cf90ced"
      },
      "source": [
        "#training error\n",
        "display_res(train,train_label,train,org_label_train)"
      ],
      "execution_count": 86,
      "outputs": [
        {
          "output_type": "stream",
          "text": [
            "error: 0.0015910898965791568\n",
            "[[125   0   0   0   0   0   0   0   0   0]\n",
            " [  0 128   0   0   0   0   0   0   1   0]\n",
            " [  0   0 124   0   0   0   0   0   0   0]\n",
            " [  0   0   0 130   0   0   0   0   0   0]\n",
            " [  0   0   0   0 124   0   0   0   0   0]\n",
            " [  0   0   0   0   0 126   0   0   0   0]\n",
            " [  0   0   0   0   0   0 127   0   0   0]\n",
            " [  0   0   0   0   0   0   0 125   0   0]\n",
            " [  0   0   0   0   0   0   1   0 121   0]\n",
            " [  0   0   0   0   0   0   0   0   0 125]]\n"
          ],
          "name": "stdout"
        }
      ]
    },
    {
      "cell_type": "markdown",
      "metadata": {
        "id": "Pue9Tuwi8ze5"
      },
      "source": [
        "testing error and confusion matrix"
      ]
    },
    {
      "cell_type": "code",
      "metadata": {
        "colab": {
          "base_uri": "https://localhost:8080/"
        },
        "id": "x0tmxRy587Ar",
        "outputId": "396cafe7-4c95-4d2d-ed92-bab21da44ba0"
      },
      "source": [
        "#test errror\n",
        "display_res(train,train_label,test,org_label_test)"
      ],
      "execution_count": 87,
      "outputs": [
        {
          "output_type": "stream",
          "text": [
            "error: 0.1037037037037037\n",
            "[[51  0  0  0  0  0  1  0  1  0]\n",
            " [ 0 44  0  2  0  0  0  0  2  5]\n",
            " [ 3  0 49  0  0  0  0  0  0  1]\n",
            " [ 0  1  0 42  0  2  0  2  6  0]\n",
            " [ 0  2  0  0 52  0  2  0  0  1]\n",
            " [ 0  2  1  0  0 51  2  0  0  0]\n",
            " [ 0  1  0  0  0  0 52  0  1  0]\n",
            " [ 0  1  0  0  0  0  0 49  3  1]\n",
            " [ 0  6  0  0  1  0  0  0 45  0]\n",
            " [ 1  4  0  0  0  0  0  1  0 49]]\n"
          ],
          "name": "stdout"
        }
      ]
    },
    {
      "cell_type": "markdown",
      "metadata": {
        "id": "XXJZ4teyEJA8"
      },
      "source": [
        "displaying predicted and original label for 25 test set items"
      ]
    },
    {
      "cell_type": "code",
      "metadata": {
        "colab": {
          "base_uri": "https://localhost:8080/",
          "height": 1000
        },
        "id": "NVdATznlEV5a",
        "outputId": "100b3f48-6205-409d-84e8-6e735eafb86b"
      },
      "source": [
        "test1 = test[0:25, :]\n",
        "train1=train\n",
        "correct_prediction=0\n",
        "predicted_labels=get_label(train1,train_label,test1)\n",
        "\n",
        "#5x5 subplots for 25 images\n",
        "fig, axis = plt.subplots(5, 5)\n",
        "column= 0\n",
        "for i in range(len(test1)):\n",
        "  column = column % 5\n",
        "  axis[int(i/5), column].imshow(test1[i].reshape(8, 8))\n",
        "  axis[int(i/5), column].set_title( \"y_org:\"+ str(org_label_test[i])+ \"y_pred:\" + str(predicted_labels[i]) )\n",
        "  column=column+1\n",
        "fig.set_size_inches(30, 25)\n",
        "\n",
        "plt.show()"
      ],
      "execution_count": 92,
      "outputs": [
        {
          "output_type": "display_data",
          "data": {
            "image/png": "[encoded data removed]",
            "text/plain": [
              "<Figure size 2160x1800 with 25 Axes>"
            ]
          },
          "metadata": {
            "tags": [],
            "needs_background": "light"
          }
        }
      ]
    },
    {
      "cell_type": "markdown",
      "metadata": {
        "id": "-xfw2_BtF1OD"
      },
      "source": [
        "ج)روش نزدیک‌ ترین همسایه برای این مجموعه داده در تست بهتر و در آموزش بدتر عمل می‌کرد.\n",
        "\n",
        "knn train error: 0.008\n",
        "\n",
        "---\n",
        "\n",
        "\n",
        "knn test error: 0.016\n",
        "\n",
        "---\n",
        "\n",
        "\n",
        "LR train error: 0.001\n",
        "\n",
        "---\n",
        "\n",
        "\n",
        "LR test error: 0.103"
      ]
    },
    {
      "cell_type": "markdown",
      "metadata": {
        "id": "-srSQ8JcInw7"
      },
      "source": [
        "د)  اگر ۱۰ کلاس با داده‌های متوازن داشته باشیم با این روش جداسازها داده‌های با نسبت ۱۰ به ۹۰ را باید جدا کنند و داده‌ها نامتوزن می‌شوند؛ برای حل این مشکل می توان از روش یک به یک استفاده کرد که داده ها اگر خودشان نامتوازن نباشند، به  شکل دوتایی (۱۰ به ۱۰ ) مقایسه و جدا می‌شوند. و توازن د         ا            ریم"
      ]
    }
  ]
}